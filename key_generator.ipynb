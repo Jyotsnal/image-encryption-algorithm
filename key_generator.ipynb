{
  "nbformat": 4,
  "nbformat_minor": 0,
  "metadata": {
    "colab": {
      "provenance": []
    },
    "kernelspec": {
      "name": "python3",
      "display_name": "Python 3"
    },
    "language_info": {
      "name": "python"
    }
  },
  "cells": [
    {
      "cell_type": "code",
      "execution_count": 5,
      "metadata": {
        "colab": {
          "base_uri": "https://localhost:8080/"
        },
        "id": "0v9bK3Px5p67",
        "outputId": "64749147-a843-4afd-c190-bd584172920f"
      },
      "outputs": [
        {
          "output_type": "stream",
          "name": "stdout",
          "text": [
            "Enter image height (m1, must be even): 384\n",
            "Enter image width (n1, must be even): 768\n",
            "Maximum value for l: min(l1, l2) = min(7, 8)\n",
            "Enter l (1 ≤ l ≤ min(l1, l2)): 4\n",
            "\n",
            "🔐 Generated Encryption Key:\n",
            "m1 = 384\n",
            "n1 = 768\n",
            "l  = 4\n",
            "a  = 261970\n",
            "alpha = [8, 16, 3, 9, 11, 5, 1, 10, 13, 14, 12, 15, 4, 2, 7, 6]\n",
            "beta  = [7, 4, 6, 2, 14, 15, 1, 11, 13, 12, 8, 3, 16, 10, 9, 5]\n"
          ]
        },
        {
          "output_type": "execute_result",
          "data": {
            "text/plain": [
              "(384,\n",
              " 768,\n",
              " 4,\n",
              " 261970,\n",
              " [8, 16, 3, 9, 11, 5, 1, 10, 13, 14, 12, 15, 4, 2, 7, 6],\n",
              " [7, 4, 6, 2, 14, 15, 1, 11, 13, 12, 8, 3, 16, 10, 9, 5])"
            ]
          },
          "metadata": {},
          "execution_count": 5
        }
      ],
      "source": [
        "import random\n",
        "import numpy as np\n",
        "\n",
        "def generate_random_key():\n",
        "    # Input values\n",
        "    m1 = int(input(\"Enter image height (m1, must be even): \"))\n",
        "    n1 = int(input(\"Enter image width (n1, must be even): \"))\n",
        "\n",
        "    if m1 % 2 != 0 or n1 % 2 != 0:\n",
        "        raise ValueError(\"Both m1 and n1 must be even.\")\n",
        "\n",
        "    l1 = 0\n",
        "    temp = m1\n",
        "    while temp % 2 == 0:\n",
        "        temp //= 2\n",
        "        l1 += 1\n",
        "\n",
        "    l2 = 0\n",
        "    temp = n1\n",
        "    while temp % 2 == 0:\n",
        "        temp //= 2\n",
        "        l2 += 1\n",
        "\n",
        "    print(f\"Maximum value for l: min(l1, l2) = min({l1}, {l2})\")\n",
        "\n",
        "    l = int(input(\"Enter l (1 ≤ l ≤ min(l1, l2)): \"))\n",
        "    if not (1 <= l <= min(l1, l2)):\n",
        "        raise ValueError(\"Invalid value for l.\")\n",
        "\n",
        "    L = 2 ** l\n",
        "    N = m1 * n1 + 1\n",
        "\n",
        "    # Generate 'a' coprime to N\n",
        "    a = random.randint(2, N - 1)\n",
        "    while np.gcd(a, N) != 1:\n",
        "        a = random.randint(2, N - 1)\n",
        "\n",
        "    # Generate permutations α and β\n",
        "    alpha = random.sample(range(1, L + 1), L)\n",
        "    beta = random.sample(range(1, L + 1), L)\n",
        "\n",
        "    # Display result\n",
        "    print(\"\\n🔐 Generated Encryption Key:\")\n",
        "    print(f\"m1 = {m1}\")\n",
        "    print(f\"n1 = {n1}\")\n",
        "    print(f\"l  = {l}\")\n",
        "    print(f\"a  = {a}\")\n",
        "    print(f\"alpha = {alpha}\")\n",
        "    print(f\"beta  = {beta}\")\n",
        "\n",
        "    return m1, n1, l, a, alpha, beta\n",
        "\n",
        "# Run key generator\n",
        "generate_random_key()\n"
      ]
    }
  ]
}